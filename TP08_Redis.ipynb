{
 "cells": [
  {
   "cell_type": "markdown",
   "id": "77198fec",
   "metadata": {},
   "source": [
    "# TP : Panier D'achat avec  Redis/Python For Esi-Sba 2SC students (2022-2023)"
   ]
  },
  {
   "cell_type": "markdown",
   "id": "a11926b2",
   "metadata": {},
   "source": [
    "### Importer redis\n"
   ]
  },
  {
   "cell_type": "code",
   "execution_count": null,
   "id": "1ac65ac9",
   "metadata": {},
   "outputs": [],
   "source": [
    "import redis"
   ]
  },
  {
   "cell_type": "markdown",
   "id": "5c31888f",
   "metadata": {},
   "source": [
    "### Se connecter au server Redis (docker container)"
   ]
  },
  {
   "cell_type": "code",
   "execution_count": null,
   "id": "f5d65b55",
   "metadata": {},
   "outputs": [],
   "source": [
    "r = redis.StrictRedis(host='localhost', port=6379, db=0, decode_responses=True)"
   ]
  },
  {
   "cell_type": "markdown",
   "id": "22ee9e8b",
   "metadata": {},
   "source": [
    "### Réinitialiser la base de données en supprimant toutes les clés"
   ]
  },
  {
   "cell_type": "code",
   "execution_count": null,
   "id": "014af74f",
   "metadata": {},
   "outputs": [],
   "source": [
    "## compléter le code ici\n",
    "r.flushall()"
   ]
  },
  {
   "cell_type": "markdown",
   "id": "d030426f",
   "metadata": {},
   "source": [
    "### Méthode Ajouter client()\n",
    "#### r.incr('client_id'): permet  d'incrémenter la variable client_id\n",
    "#### utiliser le \"client_id\" pour stocker le couple(\"client_i\", \"cart_i\")"
   ]
  },
  {
   "cell_type": "code",
   "execution_count": null,
   "id": "fde81041",
   "metadata": {},
   "outputs": [],
   "source": [
    "def add_Client():  \n",
    " r.incr('client_id')\n",
    " cid = r.get('client_id')\n",
    " r.set('client_'+cid, 'cart_'+cid)"
   ]
  },
  {
   "cell_type": "markdown",
   "id": "6dfc2d36",
   "metadata": {},
   "source": [
    "### ajouter un client et l'afficher"
   ]
  },
  {
   "cell_type": "code",
   "execution_count": null,
   "id": "ddcf1bd3",
   "metadata": {},
   "outputs": [],
   "source": [
    "add_Client()\n",
    "print(r.get('client_1'))"
   ]
  },
  {
   "cell_type": "markdown",
   "id": "43118056",
   "metadata": {},
   "source": [
    "### Ajouter d'autres clients"
   ]
  },
  {
   "cell_type": "code",
   "execution_count": null,
   "id": "cf417e3b",
   "metadata": {},
   "outputs": [],
   "source": [
    "add_Client()\n",
    "add_Client()\n",
    "print(r.get('client_2'))\n",
    "print(r.get('client_3'))"
   ]
  },
  {
   "cell_type": "markdown",
   "id": "98f511ff",
   "metadata": {},
   "source": [
    "### Méthode Ajouter Produit (name, price)"
   ]
  },
  {
   "cell_type": "code",
   "execution_count": null,
   "id": "0acf1243",
   "metadata": {},
   "outputs": [],
   "source": [
    "def add_Product(name, price):\n",
    " r.incr('produit_id')\n",
    " pid = r.get('produit_id')\n",
    " r.hset('produit_'+pid, 'nom', name)\n",
    " r.hset('produit_'+pid, 'prix', price)"
   ]
  },
  {
   "cell_type": "markdown",
   "id": "1f29b4c1",
   "metadata": {},
   "source": [
    "### Ajouter des produits à la base"
   ]
  },
  {
   "cell_type": "code",
   "execution_count": null,
   "id": "6bb7bf60",
   "metadata": {},
   "outputs": [],
   "source": [
    "add_Product('pepsi','100')\n",
    "add_Product('coko-cola','120')"
   ]
  },
  {
   "cell_type": "code",
   "execution_count": null,
   "id": "1b605c10",
   "metadata": {},
   "outputs": [],
   "source": [
    "print(r.hgetall('produit_1'))\n",
    "print(r.hgetall('produit_2'))"
   ]
  },
  {
   "cell_type": "markdown",
   "id": "ea955f2d",
   "metadata": {},
   "source": [
    "### Méthode ajouter un produit à un panier en indiquant son \"id\" et sa \"qte\""
   ]
  },
  {
   "cell_type": "code",
   "execution_count": null,
   "id": "8488c201",
   "metadata": {},
   "outputs": [],
   "source": [
    "def add_ProductToCart(idcart, idproduit, qte):\n",
    "  r.hset(idcart, idproduit, qte)"
   ]
  },
  {
   "cell_type": "markdown",
   "id": "b3096971",
   "metadata": {},
   "source": [
    "### remplir certains paniers"
   ]
  },
  {
   "cell_type": "code",
   "execution_count": null,
   "id": "12556cd0",
   "metadata": {},
   "outputs": [],
   "source": [
    "add_ProductToCart('cart_1','produit_1',10)\n",
    "add_ProductToCart('cart_1','produit_2',1)\n",
    "\n",
    "add_ProductToCart('cart_2','produit_2',2)\n",
    "add_ProductToCart('cart_2','produit_1',3)\n"
   ]
  },
  {
   "cell_type": "markdown",
   "id": "73bc54a9",
   "metadata": {},
   "source": [
    "### Afficher le contenu des paniers"
   ]
  },
  {
   "cell_type": "code",
   "execution_count": null,
   "id": "92541be0",
   "metadata": {},
   "outputs": [],
   "source": [
    "print(r.hgetall('cart_1'))\n",
    "print(r.hgetall('cart_2'))"
   ]
  },
  {
   "cell_type": "markdown",
   "id": "9bcce28d",
   "metadata": {},
   "source": [
    "### Méthode Calculer le total d'un panier en indiquant le \"cart_i\""
   ]
  },
  {
   "cell_type": "code",
   "execution_count": null,
   "id": "407f54c9",
   "metadata": {},
   "outputs": [],
   "source": [
    "def compute_total(idcart):\n",
    "     cart_list= r.hgetall(idcart)\n",
    "     total=0   \n",
    "     for idp in cart_list:\n",
    "         qte=int(cart_list[idp])\n",
    "         price=int(r.hget(idp,'prix'))\n",
    "         total+=qte*price\n",
    "     return total    "
   ]
  },
  {
   "cell_type": "markdown",
   "id": "6cda144e",
   "metadata": {},
   "source": [
    "### Afficher le total de certains paniers"
   ]
  },
  {
   "cell_type": "code",
   "execution_count": null,
   "id": "5bd056d3",
   "metadata": {},
   "outputs": [],
   "source": [
    "print(compute_total('cart_1'))\n",
    "print(compute_total('cart_2'))"
   ]
  }
 ],
 "metadata": {
  "kernelspec": {
   "display_name": "Python 3 (ipykernel)",
   "language": "python",
   "name": "python3"
  },
  "language_info": {
   "codemirror_mode": {
    "name": "ipython",
    "version": 3
   },
   "file_extension": ".py",
   "mimetype": "text/x-python",
   "name": "python",
   "nbconvert_exporter": "python",
   "pygments_lexer": "ipython3",
   "version": "3.7.4"
  }
 },
 "nbformat": 4,
 "nbformat_minor": 5
}
