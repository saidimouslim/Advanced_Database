{
 "cells": [
  {
   "cell_type": "markdown",
   "metadata": {},
   "source": [
    "# Exercice: Modélisation orientée requête (Cassandra)\n",
    "\n",
    "<table><tr>\n",
    "    <td><img src=\"image/esi-sba.png\" width=\"100\" height=\"100\"></td>\n",
    "    <td><img src=\"image/cassandra.png\" width=\"100\" height=\"100\"></td>\n",
    "    </tr></table>\n",
    "\n"
   ]
  },
  {
   "cell_type": "markdown",
   "metadata": {},
   "source": [
    "### Dans ce notebook, nous allons travailler sur la modélisation orientée requête sous la BDD No-SQL Cassandra, en particulier nous traitons les points suivants :\n",
    "\n",
    "* Dénormaliser une BDD relationnelle en partant du principe 1 table per query \n",
    "* Définir la partie Primary Key pour chaque requête\n",
    "* Optimiser vos modèles en choisissant la bonne Partition Key & Clustering Column\n",
    "* Valider vos modèles \n",
    "* Tester quelques requêtes particulières\n"
   ]
  },
  {
   "cell_type": "markdown",
   "metadata": {},
   "source": [
    "#### installer cassandra-driver afin de se connecter au cluster cassandra\n",
    "! pip install cassandra-driver\n",
    "#### More documentation can be found here:  https://datastax.github.io/python-driver/"
   ]
  },
  {
   "cell_type": "markdown",
   "metadata": {},
   "source": [
    "#### Import Apache Cassandra python package"
   ]
  },
  {
   "cell_type": "code",
   "execution_count": 1,
   "metadata": {},
   "outputs": [],
   "source": [
    "import cassandra"
   ]
  },
  {
   "cell_type": "markdown",
   "metadata": {},
   "source": [
    "### créer une connection au cluster cassandra"
   ]
  },
  {
   "cell_type": "code",
   "execution_count": 3,
   "metadata": {},
   "outputs": [],
   "source": [
    "from cassandra.cluster import Cluster\n",
    "\n",
    "try: \n",
    "    cluster = Cluster(['127.0.0.1']) # si cassandra est installé localement avec le port par défaut 9042\n",
    "    session = cluster.connect()\n",
    "except Exception as e:\n",
    "    print(e)"
   ]
  },
  {
   "cell_type": "markdown",
   "metadata": {},
   "source": [
    "### créer maintenant un keyspace nommé \"iot_esi\""
   ]
  },
  {
   "cell_type": "code",
   "execution_count": 4,
   "metadata": {},
   "outputs": [],
   "source": [
    "try:\n",
    "    \n",
    "  ### add code here \n",
    "  session.execute(\"\"\"\n",
    "    CREATE KEYSPACE IF NOT EXISTS iot_esi2\n",
    "    WITH REPLICATION = \n",
    "    { 'class' : 'SimpleStrategy', 'replication_factor' : 1 }\"\"\") \n",
    "\n",
    "except Exception as e:\n",
    "    print(e)"
   ]
  },
  {
   "cell_type": "markdown",
   "metadata": {},
   "source": [
    "### connecter à votre Keyspace  iot_esi \n"
   ]
  },
  {
   "cell_type": "code",
   "execution_count": 5,
   "metadata": {},
   "outputs": [],
   "source": [
    "try:\n",
    "    \n",
    "    ### add code here \n",
    "    session.set_keyspace('iot_esi2')\n",
    "    \n",
    "except Exception as e:\n",
    "    print(e)"
   ]
  },
  {
   "cell_type": "markdown",
   "metadata": {},
   "source": [
    "### Supposons qu'on a un système IoT qui stocke les données capturées par les différents Sensors en utilisant un modèle RELATIONNEL, tel que est décrit dans le schéma ER ci-dessous:\n",
    "\n",
    "<table><tr>\n",
    "    <td><img src=\"image/ex1_IoT_ER_model.png\" width=\"500\" height=\"500\"></td>\n",
    "      </tr></table>"
   ]
  },
  {
   "cell_type": "markdown",
   "metadata": {},
   "source": [
    "### imaginons  que nous souhaitons analyser ces données à  travers 3 requêtes analytiques:\n",
    "* `Query1= retourner les informations(name, nbSensors) de tous les networks d'une région donnée`\n",
    "* `Query2= retourner les informations (name,type,localisation, characteristics) de tous les Sensors d'un Network donné.`\n",
    "* `Query3= retourner le AVG_measurements par sensor,  par année et par mois.  Ordonner le résultat par  année(desc) et par mois(asc)`"
   ]
  },
  {
   "cell_type": "markdown",
   "metadata": {},
   "source": [
    "#### Créer les trois tables qui correspondent aux requêtes précédentes, en indiquant pour chacune:\n",
    "* Primary Key\n",
    "* Partition Key\n",
    "* Clustering Column"
   ]
  },
  {
   "cell_type": "code",
   "execution_count": 6,
   "metadata": {},
   "outputs": [],
   "source": [
    "try:\n",
    "    \n",
    "    ### Create the table that corresponds to the Query1\n",
    "    query1 = \"CREATE TABLE IF NOT EXISTS Networks \"\n",
    "    query1 = query1 + \"(nameNt text, region text, nbSensors int, PRIMARY KEY (region,nameNt))\"\n",
    "    session.execute(query1)\n",
    "\n",
    "    ### Create the table that corresponds to the Query2\n",
    "    query2=\"CREATE TABLE IF NOT EXISTS Sensor_By_Network\"\n",
    "    query2 = query2 + \"(nameNt text, nameS text, type text, latitude float, longitude float,characteristics MAP<text,text>, PRIMARY KEY (nameNT, nameS))\"\n",
    "    session.execute(query2)\n",
    "    \n",
    "    \n",
    "    ### Create the table that corresponds to the Query3\n",
    "    query3=\"CREATE TABLE IF NOT EXISTS AVG_measurements\"\n",
    "    query3 = query3 + \"(nameS text,  annee int, mois int, AVG_measurements float,  \"\n",
    "    query3=query3+\" PRIMARY KEY (nameS, annee, mois)) with clustering order by (annee desc, mois asc) ;\"\n",
    "    session.execute(query3) \n",
    "    \n",
    "except Exception as e:\n",
    "        print(e)"
   ]
  },
  {
   "cell_type": "markdown",
   "metadata": {},
   "source": [
    "### Une fois vous créez les différentes tables, essayez de les peupler en se basant sur le contenu de la BDD relationnelle.\n",
    "\n",
    "<table><tr>\n",
    "    <td><img src=\"image/data_tables.png\" width=\"600\" height=\"500\"></td></tr>\n",
    "  \n",
    "</table>"
   ]
  },
  {
   "cell_type": "markdown",
   "metadata": {},
   "source": [
    "### Insertion des données dans Table1"
   ]
  },
  {
   "cell_type": "code",
   "execution_count": 7,
   "metadata": {},
   "outputs": [],
   "source": [
    "query = \"INSERT INTO networks (nameNt, region, nbSensors) \"\n",
    "query = query + \" VALUES (%s,%s, %s)\"\n",
    "\n",
    "try:\n",
    "    session.execute(query, (\"esi-net\",\"ouest\",2))\n",
    "    session.execute(query, (\"udl-net\",\"ouest\",1))\n",
    "    session.execute(query, (\"alger-net\",\"center\",2))\n",
    "except Exception as e:\n",
    "        print(e)  "
   ]
  },
  {
   "cell_type": "markdown",
   "metadata": {},
   "source": [
    "### Insertion des données dans Table2"
   ]
  },
  {
   "cell_type": "code",
   "execution_count": 23,
   "metadata": {},
   "outputs": [],
   "source": [
    "query = \"INSERT INTO Sensor_By_Network (nameNt , nameS , type , latitude, longitude,characteristics)\"\n",
    "query = query + \" VALUES (%s, %s, %s, %s, %s,%s)\"\n",
    "\n",
    "try:\n",
    "    session.execute(query, (\"esi-net\",\"temp-11\",\"temp\",31,-96,{\"accuracy\":\"medium\",\"sensitivity\":\"high\"}))\n",
    "    session.execute(query, (\"esi-net\",\"temp-12\",\"temp\",31,-97,{\"accuracy\":\"high\",\"sensitivity\":\"high\"}))\n",
    "    session.execute(query, (\"udl-net\",\"temp-21\",\"temp\",32,-97,{\"accuracy\":\"low\",\"sensitivity\":\"medium\"}))\n",
    "    session.execute(query, (\"alger-net\",\"temp-31\",\"temp\",44,-111,{\"accuracy\":\"medium\",\"sensitivity\":\"medium\"}))\n",
    "    session.execute(query, (\"alger-net\",\"temp-32\",\"temp\",45,-111,{\"accuracy\":\"high\",\"sensitivity\":\"low\"}))\n",
    "except Exception as e :\n",
    "        print(e)     "
   ]
  },
  {
   "cell_type": "markdown",
   "metadata": {},
   "source": [
    "### Insertion des données dans Table3"
   ]
  },
  {
   "cell_type": "code",
   "execution_count": 11,
   "metadata": {},
   "outputs": [],
   "source": [
    "query = \"INSERT INTO  AVG_measurements (nameS,  annee, mois , AVG_measurements)\"\n",
    "query = query + \" VALUES (%s, %s, %s, %s)\"\n",
    "\n",
    "try:\n",
    "    session.execute(query, (\"temp-11\",2021,10, 11))\n",
    "    session.execute(query, (\"temp-11\",2021,12, 2))\n",
    "    session.execute(query, (\"temp-11\",2022,10, 16))\n",
    "    session.execute(query, (\"temp-11\",2022,12, 9))\n",
    "    \n",
    "    session.execute(query, (\"temp-12\",2021,10, 12))\n",
    "    session.execute(query, (\"temp-12\",2021,12, 3))\n",
    "    session.execute(query, (\"temp-12\",2022,10, 16.5))\n",
    "    session.execute(query, (\"temp-12\",2022,12, 9.5))\n",
    "    \n",
    "    session.execute(query, (\"temp-21\",2021,10, 12.5))\n",
    "    session.execute(query, (\"temp-21\",2021,12, 2.5))\n",
    "    session.execute(query, (\"temp-21\",2022,10, 16))\n",
    "    session.execute(query, (\"temp-21\",2022,12, 8.5))\n",
    "    \n",
    "    session.execute(query, (\"temp-31\",2021,10, 16))\n",
    "    session.execute(query, (\"temp-31\",2021,12, 6.5))\n",
    "    session.execute(query, (\"temp-31\",2022,10, 18))\n",
    "    session.execute(query, (\"temp-31\",2022,12, 11))\n",
    "    \n",
    "    session.execute(query, (\"temp-32\",2021,10, 14))\n",
    "    session.execute(query, (\"temp-32\",2021,12, 4.5))\n",
    "    session.execute(query, (\"temp-32\",2022,10, 16.5))\n",
    "    session.execute(query, (\"temp-32\",2022,12, 8.5))\n",
    "    \n",
    "except Exception as e :\n",
    "        print(e)   "
   ]
  },
  {
   "cell_type": "markdown",
   "metadata": {},
   "source": [
    "### Valider votre modèle en exécutant les requêtes suivantes\n",
    "\n",
    "* Retourner le nombre de sensors dans la région ouest\"\n",
    "\n",
    "* Retourner les sensors qui sont placés dans le network \"esi-net\"\n",
    "\n",
    "* Retourner la température maximale enregistrée par le sensor \"temp-11\" pendant l'année 2021"
   ]
  },
  {
   "cell_type": "code",
   "execution_count": 15,
   "metadata": {
    "scrolled": true
   },
   "outputs": [
    {
     "name": "stdout",
     "output_type": "stream",
     "text": [
      "Row(system_sum_nbsensors=3)\n"
     ]
    }
   ],
   "source": [
    "# query1: Retourner le nombre de sensors dans la région ouest\n",
    "query = \"select sum(nbsensors) from Networks where region='ouest'\"\n",
    "\n",
    "try:\n",
    "    rows = session.execute(query)\n",
    "    for row in rows:\n",
    "          print (row)\n",
    "except Exception as e:\n",
    "        print(e)           "
   ]
  },
  {
   "cell_type": "code",
   "execution_count": 27,
   "metadata": {
    "scrolled": true
   },
   "outputs": [
    {
     "name": "stdout",
     "output_type": "stream",
     "text": [
      "Row(nament='esi-net', names='temp-11', characteristics=OrderedMapSerializedKey([('accuracy', 'medium'), ('sensitivity', 'high')]), latitude=31.0, longitude=-96.0, type='temp')\n",
      "Row(nament='esi-net', names='temp-12', characteristics=OrderedMapSerializedKey([('accuracy', 'high'), ('sensitivity', 'high')]), latitude=31.0, longitude=-97.0, type='temp')\n"
     ]
    }
   ],
   "source": [
    "# query2: Retourner les sensors qui sont placés dans le network \"esi-net\"\n",
    "query = \"select * from Sensor_By_Network where nameNt='esi-net' \"\n",
    "\n",
    "try:\n",
    "    rows = session.execute(query)\n",
    "    for row in rows:\n",
    "          print (row)\n",
    "except Exception as e:\n",
    "        print(e)    "
   ]
  },
  {
   "cell_type": "code",
   "execution_count": 33,
   "metadata": {
    "scrolled": true
   },
   "outputs": [
    {
     "name": "stdout",
     "output_type": "stream",
     "text": [
      "Row(system_max_avg_measurements=11.0)\n"
     ]
    }
   ],
   "source": [
    "# query3: Retourner la température maximale enregistrée par le sensor \"temp-11\" pendant l'année 2021\n",
    "query = \"select max(AVG_measurements)  from AVG_measurements where names='temp-11' and annee=2021\"\n",
    "\n",
    "try:\n",
    "    rows = session.execute(query)\n",
    "    for row in rows:\n",
    "          print (row)\n",
    "except Exception as e:\n",
    "        print(e)         "
   ]
  },
  {
   "cell_type": "markdown",
   "metadata": {},
   "source": [
    "### Essayons d'autres requêtes \n",
    "\n",
    "* `Retourner la température maximale enregistrée par le sensor \"temp-11\"  pendant le  mois d'octobre de toutes les années` "
   ]
  },
  {
   "cell_type": "code",
   "execution_count": 34,
   "metadata": {},
   "outputs": [
    {
     "name": "stdout",
     "output_type": "stream",
     "text": [
      "Error from server: code=2200 [Invalid query] message=\"PRIMARY KEY column \"mois\" cannot be restricted as preceding column \"annee\" is not restricted\"\n"
     ]
    }
   ],
   "source": [
    "# query4\n",
    "query = \"select max(AVG_measurements)  from AVG_measurements where names='temp-11' and mois=10\"\n",
    "\n",
    "\n",
    "\n",
    "try:\n",
    "    rows = session.execute(query)\n",
    "    for row in rows:\n",
    "          print (row)\n",
    "except Exception as e:\n",
    "        print(e)      "
   ]
  },
  {
   "cell_type": "markdown",
   "metadata": {},
   "source": [
    "### Proposer une solution pour optimiser cette requête"
   ]
  },
  {
   "cell_type": "code",
   "execution_count": 35,
   "metadata": {},
   "outputs": [],
   "source": [
    "### make your solution \n",
    "## table creation\n",
    "### Create the table that corresponds to the Query4\n",
    "query4=\"CREATE TABLE IF NOT EXISTS AVG_measurements_by_month\"\n",
    "query4 = query4 + \"(nameS text,  annee int, mois int, AVG_measurements float,  \"\n",
    "query4=query4+\" PRIMARY KEY (nameS, mois, annee));\"\n",
    "session.execute(query4) \n",
    "\n",
    "## insert data\n",
    "query = \"INSERT INTO  AVG_measurements_by_month (nameS,  annee, mois , AVG_measurements)\"\n",
    "query = query + \" VALUES (%s, %s, %s, %s)\"\n",
    "\n",
    "try:\n",
    "    session.execute(query, (\"temp-11\",2021,10, 11))\n",
    "    session.execute(query, (\"temp-11\",2021,12, 2))\n",
    "    session.execute(query, (\"temp-11\",2022,10, 16))\n",
    "    session.execute(query, (\"temp-11\",2022,12, 9))\n",
    "    \n",
    "    session.execute(query, (\"temp-12\",2021,10, 12))\n",
    "    session.execute(query, (\"temp-12\",2021,12, 3))\n",
    "    session.execute(query, (\"temp-12\",2022,10, 16.5))\n",
    "    session.execute(query, (\"temp-12\",2022,12, 9.5))\n",
    "    \n",
    "    session.execute(query, (\"temp-21\",2021,10, 12.5))\n",
    "    session.execute(query, (\"temp-21\",2021,12, 2.5))\n",
    "    session.execute(query, (\"temp-21\",2022,10, 16))\n",
    "    session.execute(query, (\"temp-21\",2022,12, 8.5))\n",
    "    \n",
    "    session.execute(query, (\"temp-31\",2021,10, 16))\n",
    "    session.execute(query, (\"temp-31\",2021,12, 6.5))\n",
    "    session.execute(query, (\"temp-31\",2022,10, 18))\n",
    "    session.execute(query, (\"temp-31\",2022,12, 11))\n",
    "    \n",
    "    session.execute(query, (\"temp-32\",2021,10, 14))\n",
    "    session.execute(query, (\"temp-32\",2021,12, 4.5))\n",
    "    session.execute(query, (\"temp-32\",2022,10, 16.5))\n",
    "    session.execute(query, (\"temp-32\",2022,12, 8.5))\n",
    "    \n",
    "except Exception as e :\n",
    "        print(e)   "
   ]
  },
  {
   "cell_type": "code",
   "execution_count": 39,
   "metadata": {},
   "outputs": [
    {
     "name": "stdout",
     "output_type": "stream",
     "text": [
      "Row(system_max_avg_measurements=16.0)\n"
     ]
    }
   ],
   "source": [
    "# query4\n",
    "query = \"select max(AVG_measurements)  from AVG_measurements_by_month where names='temp-11' and mois=10\"\n",
    "\n",
    "\n",
    "\n",
    "try:\n",
    "    rows = session.execute(query)\n",
    "    for row in rows:\n",
    "          print (row)\n",
    "except Exception as e:\n",
    "        print(e)  "
   ]
  },
  {
   "cell_type": "markdown",
   "metadata": {},
   "source": [
    "###  drop  tables. "
   ]
  },
  {
   "cell_type": "code",
   "execution_count": 40,
   "metadata": {},
   "outputs": [],
   "source": [
    "query = \"drop table IF EXISTS  Networks\"\n",
    "rows = session.execute(query)\n",
    "\n",
    "query = \"drop table IF EXISTS Sensor_By_Network \"\n",
    "rows = session.execute(query)\n",
    "\n",
    "query = \"drop table IF EXISTS AVG_measurements  \"\n",
    "rows = session.execute(query)\n",
    "\n",
    "\n",
    "\n",
    "query = \"drop table IF EXISTS AVG_measurements_by_month \"\n",
    "rows = session.execute(query)"
   ]
  },
  {
   "cell_type": "markdown",
   "metadata": {},
   "source": [
    "### close the session and cluster connection"
   ]
  },
  {
   "cell_type": "code",
   "execution_count": null,
   "metadata": {},
   "outputs": [],
   "source": [
    "session.shutdown()\n",
    "cluster.shutdown()"
   ]
  },
  {
   "cell_type": "code",
   "execution_count": null,
   "metadata": {},
   "outputs": [],
   "source": []
  }
 ],
 "metadata": {
  "kernelspec": {
   "display_name": "Python 3 (ipykernel)",
   "language": "python",
   "name": "python3"
  },
  "language_info": {
   "codemirror_mode": {
    "name": "ipython",
    "version": 3
   },
   "file_extension": ".py",
   "mimetype": "text/x-python",
   "name": "python",
   "nbconvert_exporter": "python",
   "pygments_lexer": "ipython3",
   "version": "3.7.4"
  }
 },
 "nbformat": 4,
 "nbformat_minor": 2
}
